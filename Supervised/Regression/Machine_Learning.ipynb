{
 "cells": [
  {
   "cell_type": "markdown",
   "metadata": {},
   "source": [
    "___\n",
    "# `Machine Learning`\n",
    "___\n",
    "Machine learning (ML) is a subset of artificial intelligence that enables systems to learn and make decisions from data without being explicitly programmed. There are several types of machine learning, each suited to different types of tasks and datasets. The main types include supervised learning, unsupervised learning, semi-supervised learning, and reinforcement learning.\n",
    "\n",
    "## `Types of Machine Learning`\n",
    "\n",
    "### 1. Supervised Learning\n",
    "- **Definition**: Involves training a model on a labeled dataset, meaning that each training example is paired with an output label.\n",
    "- **Common Algorithms**:\n",
    "    - Linear Regression\n",
    "    - Logistic Regression\n",
    "    - Decision Trees\n",
    "    - Random Forests\n",
    "    - Support Vector Machines (SVM)\n",
    "    - Neural Networks\n",
    "    - k-Nearest Neighbors (k-NN)\n",
    "- **Parameters**:\n",
    "    - Learning rate\n",
    "    - Number of epochs/iterations\n",
    "    - Regularization parameters (L1, L2)\n",
    "    - Model-specific parameters (e.g., tree depth in Decision Trees)\n",
    "- **When to Use**: When the goal is to predict a specific output or classify data into predefined categories. Examples include spam detection, image classification, and price prediction.\n",
    "\n",
    "### 2. Unsupervised Learning\n",
    "- **Definition**: Involves training a model on data without labeled responses. The system tries to learn the patterns and the structure from the data.\n",
    "- **Common Algorithms**:\n",
    "    - k-Means Clustering\n",
    "    - Hierarchical Clustering\n",
    "    - Principal Component Analysis (PCA)\n",
    "    - Independent Component Analysis (ICA)\n",
    "    - t-Distributed Stochastic Neighbor Embedding (t-SNE)\n",
    "    - Gaussian Mixture Models (GMM)\n",
    "- **Parameters**:\n",
    "    - Number of clusters (for clustering algorithms)\n",
    "    - Learning rate (for some algorithms like PCA)\n",
    "    - Distance metric (e.g., Euclidean, Manhattan)\n",
    "- **When to Use**: When there is no predefined label and the task is to find inherent patterns or groupings in the data. Examples include customer segmentation, anomaly detection, and market basket analysis.\n",
    "\n",
    "### 3. Semi-Supervised Learning\n",
    "- **Definition**: Combines a small amount of labeled data with a large amount of unlabeled data during training.\n",
    "- **Common Algorithms**:\n",
    "    - Semi-Supervised Support Vector Machines (S3VM)\n",
    "    - Co-training\n",
    "    - Graph-based methods\n",
    "    - Self-training\n",
    "- **Parameters**:\n",
    "    - The ratio of labeled to unlabeled data\n",
    "    - Similar parameters as supervised and unsupervised learning depending on the specific algorithm used\n",
    "- **When to Use**: When labeled data is scarce or expensive to obtain, but there is an abundance of unlabeled data. Examples include web content classification and handwriting recognition.\n",
    "\n",
    "### 4. Reinforcement Learning\n",
    "- **Definition**: Involves training an agent to make sequences of decisions by rewarding it for good decisions and penalizing it for bad ones.\n",
    "- **Common Algorithms**:\n",
    "    - Q-Learning\n",
    "    - Deep Q-Networks (DQN)\n",
    "    - Policy Gradient Methods\n",
    "    - Actor-Critic Methods\n",
    "- **Parameters**:\n",
    "    - Learning rate\n",
    "    - Discount factor\n",
    "    - Exploration rate\n",
    "    - Policy parameters\n",
    "- **When to Use**: When the task is to develop a strategy or policy that maximizes cumulative reward over time. Examples include game playing, robotics, and automated trading."
   ]
  },
  {
   "cell_type": "markdown",
   "metadata": {},
   "source": [
    "## `Usage of Machine Learning Algorithms`\n",
    "\n",
    "### Supervised Learning\n",
    "- **Linear Regression**: When predicting a continuous output (e.g., predicting house prices).\n",
    "- **Logistic Regression**: When classifying binary outcomes (e.g., spam detection).\n",
    "- **Decision Trees**: When interpretability is important, and the data is not too complex.\n",
    "- **Random Forests**: When seeking robust predictions and handling overfitting.\n",
    "- **Support Vector Machines (SVM)**: When dealing with high-dimensional spaces and clear margin of separation.\n",
    "- **Neural Networks**: When handling complex patterns in large datasets (e.g., image and speech recognition).\n",
    "- **k-Nearest Neighbors (k-NN)**: For smaller datasets and when interpretability of the nearest neighbors is important.\n",
    "\n",
    "### Unsupervised Learning\n",
    "- **k-Means Clustering**: For partitioning data into k distinct clusters (e.g., customer segmentation).\n",
    "- **Hierarchical Clustering**: When a dendrogram of nested clusters is useful.\n",
    "- **PCA/ICA**: For reducing dimensionality and finding patterns in high-dimensional data.\n",
    "- **t-SNE**: For visualizing high-dimensional data in 2D or 3D spaces.\n",
    "- **GMM**: For modeling data as a mixture of several Gaussian distributions.\n",
    "\n",
    "### Semi-Supervised Learning\n",
    "- **Semi-Supervised SVM**: When labeled data is scarce but unlabeled data is abundant.\n",
    "- **Co-training**: When data can be split into two views that provide independent information.\n",
    "- **Graph-based methods**: When data has an inherent graph structure.\n",
    "- **Self-training**: When using the model's own predictions to iteratively improve performance.\n",
    "\n",
    "### Reinforcement Learning\n",
    "- **Q-Learning**: For learning the value of actions in discrete state-action spaces.\n",
    "- **Deep Q-Networks (DQN)**: When the state-action space is large and complex (e.g., video games).\n",
    "- **Policy Gradient Methods**: For learning policies directly rather than value functions.\n",
    "- **Actor-Critic Methods**: Combining the benefits of value-based and policy-based approaches.\n",
    "\n",
    "In conclusion, choosing the right type of machine learning and model depends on the specific task, the nature of the data, and the desired outcome. Understanding the strengths and weaknesses of each type and model is crucial for effective application.\n"
   ]
  },
  {
   "cell_type": "markdown",
   "metadata": {},
   "source": [
    "___\n",
    "# 1. `SUPERVISED LEARNING`\n",
    "___\n",
    "# Supervised Machine Learning Models: When to Use Which\n",
    "\n",
    "| **Model** | **Description** | **When to Use** | **Key Parameters** |\n",
    "|-----------|-----------------|-----------------|--------------------|\n",
    "| **Linear Regression** | Predicts a continuous output based on input features | When predicting a numerical value (e.g., house prices, stock prices) | Learning rate, number of iterations, regularization parameters |\n",
    "| **Logistic Regression** | Predicts a binary outcome (0 or 1) | When classifying data into two categories (e.g., spam detection, disease diagnosis) | Learning rate, number of iterations, regularization parameters |\n",
    "| **Decision Trees** | Splits data into branches to make predictions based on feature values | When interpretability is important, and data is not too complex | Maximum depth, minimum samples split, criterion (Gini or entropy) |\n",
    "| **Random Forests** | An ensemble of decision trees for more accurate and robust predictions | When seeking high accuracy and handling overfitting | Number of trees, maximum depth, minimum samples split |\n",
    "| **Support Vector Machines (SVM)** | Finds the optimal hyperplane that separates classes | When dealing with high-dimensional spaces and clear margin of separation | Kernel type, regularization parameter (C), gamma |\n",
    "| **Neural Networks** | Mimics the human brain to identify complex patterns | When handling large datasets with complex patterns (e.g., image and speech recognition) | Number of layers, number of neurons per layer, learning rate, batch size |\n",
    "| **k-Nearest Neighbors (k-NN)** | Classifies data based on the closest k training examples | For smaller datasets and when interpretability of nearest neighbors is important | Number of neighbors (k), distance metric (Euclidean, Manhattan) |\n",
    "| **Gradient Boosting Machines (GBM)** | An ensemble technique that builds models sequentially to correct errors | When high predictive accuracy is needed | Number of boosting stages, learning rate, maximum depth |\n",
    "| **AdaBoost** | Combines multiple weak classifiers to create a strong classifier | When improving performance with boosting techniques is desired | Number of estimators, learning rate |\n",
    "| **Naive Bayes** | Applies Bayes' theorem with strong independence assumptions | For text classification problems (e.g., spam filtering) | Smoothing parameter (alpha) |\n",
    "| **Linear Discriminant Analysis (LDA)** | Finds the linear combinations of features that best separate classes | When the goal is to reduce dimensionality while maintaining class separability | Solver, shrinkage parameter |\n",
    "| **Ridge Regression** | A type of linear regression with L2 regularization to prevent overfitting | When linear regression model is overfitting the data | Regularization parameter (alpha) |\n",
    "| **Lasso Regression** | A type of linear regression with L1 regularization for feature selection | When there are many features, and you want to perform feature selection | Regularization parameter (alpha) |\n",
    "| **Elastic Net** | Combines L1 and L2 regularization for linear regression | When both feature selection and multicollinearity need to be addressed | Regularization parameters (alpha, l1_ratio) |\n",
    "\n",
    "In summary, the choice of a supervised learning model depends on the specific nature of the task, the dataset, and the requirements for interpretability, accuracy, and computational efficiency.\n"
   ]
  },
  {
   "cell_type": "markdown",
   "metadata": {},
   "source": [
    "## `1.1 Linear Regression`\n",
    "___"
   ]
  },
  {
   "cell_type": "code",
   "execution_count": 2,
   "metadata": {},
   "outputs": [
    {
     "data": {
      "image/png": "[encoded data removed]",
      "text/plain": [
       "<Figure size 1000x600 with 1 Axes>"
      ]
     },
     "metadata": {},
     "output_type": "display_data"
    },
    {
     "data": {
      "image/png": "[encoded data removed]",
      "text/plain": [
       "<Figure size 1000x600 with 1 Axes>"
      ]
     },
     "metadata": {},
     "output_type": "display_data"
    },
    {
     "data": {
      "image/png": "[encoded data removed]",
      "text/plain": [
       "<Figure size 1000x600 with 1 Axes>"
      ]
     },
     "metadata": {},
     "output_type": "display_data"
    },
    {
     "data": {
      "image/png": "[encoded data removed]",
      "text/plain": [
       "<Figure size 1000x600 with 1 Axes>"
      ]
     },
     "metadata": {},
     "output_type": "display_data"
    },
    {
     "data": {
      "image/png": "[encoded data removed]",
      "text/plain": [
       "<Figure size 1000x600 with 1 Axes>"
      ]
     },
     "metadata": {},
     "output_type": "display_data"
    },
    {
     "name": "stdout",
     "output_type": "stream",
     "text": [
      "R-squared (R²): 0.9749154407708353\n",
      "Mean Squared Error (MSE): 21026037.329511296\n",
      "Mean Absolute Error (MAE): 3426.4269374307078\n",
      "Mean Absolute Percentage Error (MAPE): 5.261897682192564\n"
     ]
    }
   ],
   "source": [
    "# Simple Linear Regression Model\n",
    "# Importing the libraries\n",
    "import numpy as np\n",
    "import matplotlib.pyplot as plt\n",
    "import pandas as pd\n",
    "from sklearn.model_selection import train_test_split, learning_curve, validation_curve\n",
    "from sklearn.linear_model import LinearRegression\n",
    "from sklearn.metrics import r2_score, mean_squared_error, mean_absolute_error, explained_variance_score\n",
    "\n",
    "# Importing the dataset\n",
    "dataset = pd.read_csv('Salary_Data.csv')\n",
    "X = dataset.iloc[:, :-1].values\n",
    "y = dataset.iloc[:, 1].values\n",
    "\n",
    "# Splitting the dataset into the Training set and Test set\n",
    "X_train, X_test, y_train, y_test = train_test_split(X, y, test_size=1/3, random_state=0)\n",
    "\n",
    "# Linear Regression Model\n",
    "regressor = LinearRegression()\n",
    "\n",
    "# Fitting Simple Linear Regression to the Training set\n",
    "regressor.fit(X_train, y_train)\n",
    "\n",
    "# Predicting the Test set results\n",
    "y_pred = regressor.predict(X_test)\n",
    "\n",
    "# Metrics Calculation\n",
    "r2 = r2_score(y_test, y_pred)\n",
    "mse = mean_squared_error(y_test, y_pred)\n",
    "mae = mean_absolute_error(y_test, y_pred)\n",
    "\n",
    "def mean_absolute_percentage_error(y_true, y_pred): \n",
    "    return np.mean(np.abs((y_true - y_pred) / y_true)) * 100\n",
    "\n",
    "mape = mean_absolute_percentage_error(y_test, y_pred)\n",
    "\n",
    "# Residual Analysis\n",
    "residuals = y_test - y_pred\n",
    "\n",
    "# Learning Curve\n",
    "train_sizes, train_scores, test_scores = learning_curve(regressor, X, y, cv=5, scoring='neg_mean_squared_error')\n",
    "\n",
    "# Convert scores to positive values\n",
    "train_scores_mean = -train_scores.mean(axis=1)\n",
    "test_scores_mean = -test_scores.mean(axis=1)\n",
    "\n",
    "# Validation Curve\n",
    "param_range = np.arange(1, 11)\n",
    "train_scores_vc, test_scores_vc = validation_curve(\n",
    "    LinearRegression(), X, y, param_name=\"fit_intercept\", param_range=[True, False], cv=5, scoring=\"neg_mean_squared_error\"\n",
    ")\n",
    "\n",
    "# Convert scores to positive values\n",
    "train_scores_mean_vc = -train_scores_vc.mean(axis=1)\n",
    "test_scores_mean_vc = -test_scores_vc.mean(axis=1)\n",
    "\n",
    "# Visualization of results\n",
    "\n",
    "# Visualising the Training set results\n",
    "plt.figure(figsize=(10, 6))\n",
    "plt.scatter(X_train, y_train, color='red')\n",
    "plt.plot(X_train, regressor.predict(X_train), color='blue')\n",
    "plt.title('Salary vs Experience (Training set)')\n",
    "plt.xlabel('Years of Experience')\n",
    "plt.ylabel('Salary')\n",
    "plt.show()\n",
    "\n",
    "# Visualising the Test set results\n",
    "plt.figure(figsize=(10, 6))\n",
    "plt.scatter(X_test, y_test, color='red')\n",
    "plt.plot(X_train, regressor.predict(X_train), color='blue')\n",
    "plt.title('Salary vs Experience (Test set)')\n",
    "plt.xlabel('Years of Experience')\n",
    "plt.ylabel('Salary')\n",
    "plt.show()\n",
    "\n",
    "# Residual Analysis\n",
    "plt.figure(figsize=(10, 6))\n",
    "plt.scatter(y_pred, residuals)\n",
    "plt.hlines(y=0, xmin=min(y_pred), xmax=max(y_pred), colors='r', linestyles='dashed')\n",
    "plt.xlabel('Predicted Values')\n",
    "plt.ylabel('Residuals')\n",
    "plt.title('Residuals vs. Predicted Values')\n",
    "plt.show()\n",
    "\n",
    "# Learning Curves\n",
    "plt.figure(figsize=(10, 6))\n",
    "plt.plot(train_sizes, train_scores_mean, label='Training Error')\n",
    "plt.plot(train_sizes, test_scores_mean, label='Validation Error')\n",
    "plt.xlabel('Training Size')\n",
    "plt.ylabel('MSE')\n",
    "plt.title('Learning Curves')\n",
    "plt.legend()\n",
    "plt.show()\n",
    "\n",
    "# Validation Curves\n",
    "plt.figure(figsize=(10, 6))\n",
    "plt.bar(['True', 'False'], train_scores_mean_vc, label='Training Error', width=0.4, align='center')\n",
    "plt.bar(['True', 'False'], test_scores_mean_vc, label='Validation Error', width=0.4, align='edge')\n",
    "plt.xlabel('Fit Intercept')\n",
    "plt.ylabel('MSE')\n",
    "plt.title('Validation Curve (Fit Intercept)')\n",
    "plt.legend()\n",
    "plt.show()\n",
    "\n",
    "# Print the metrics\n",
    "print(f'R-squared (R²): {r2}')\n",
    "print(f'Mean Squared Error (MSE): {mse}')\n",
    "print(f'Mean Absolute Error (MAE): {mae}')\n",
    "print(f'Mean Absolute Percentage Error (MAPE): {mape}')\n"
   ]
  },
  {
   "cell_type": "markdown",
   "metadata": {},
   "source": [
    "### Explanation of Metrics and Analysis\n",
    "\n",
    "1. **R-squared (R²)**\n",
    "   - **Information Provided:** Proportion of variance in the dependent variable that is predictable from the independent variable(s). It indicates how well the model explains the variability of the outcome.\n",
    "   - **Interpretation:** Higher values indicate a better fit.\n",
    "\n",
    "2. **Mean Squared Error (MSE)**\n",
    "   - **Information Provided:** Average of the squared differences between predicted and actual values.\n",
    "   - **Interpretation:** Lower values indicate better model performance.\n",
    "\n",
    "3. **Mean Absolute Error (MAE)**\n",
    "   - **Information Provided:** Average of absolute errors between predicted and actual values.\n",
    "   - **Interpretation:** Lower values indicate better model performance.\n",
    "\n",
    "4. **Mean Absolute Percentage Error (MAPE)**\n",
    "   - **Information Provided:** Average of absolute percentage errors between predicted and actual values.\n",
    "   - **Interpretation:** Lower values indicate better model performance.\n",
    "\n",
    "5. **Residual Analysis**\n",
    "   - **Information Provided:** Plot of residuals (differences between predicted and actual values) to assess if residuals are randomly distributed.\n",
    "   - **Interpretation:** Randomly scattered residuals suggest a good fit; patterns indicate potential issues.\n",
    "\n",
    "6. **Learning Curves**\n",
    "   - **Information Provided:** Shows training and validation errors as a function of the number of training samples.\n",
    "   - **Interpretation:** Helps diagnose if the model is overfitting or underfitting.\n",
    "\n",
    "7. **Validation Curves**\n",
    "   - **Information Provided:** Shows training and validation errors as a function of a hyperparameter (e.g., whether to fit intercept).\n",
    "   - **Interpretation:** Helps determine the optimal value for the hyperparameter."
   ]
  },
  {
   "cell_type": "markdown",
   "metadata": {},
   "source": [
    "## `1.2 Logistic Regression`\n",
    "___"
   ]
  },
  {
   "cell_type": "code",
   "execution_count": null,
   "metadata": {},
   "outputs": [],
   "source": []
  },
  {
   "cell_type": "markdown",
   "metadata": {},
   "source": [
    "## `1.3 Decision Trees`\n",
    "___"
   ]
  },
  {
   "cell_type": "code",
   "execution_count": null,
   "metadata": {},
   "outputs": [],
   "source": []
  },
  {
   "cell_type": "markdown",
   "metadata": {},
   "source": [
    "## `1.4 Random Forests`\n",
    "___"
   ]
  },
  {
   "cell_type": "code",
   "execution_count": null,
   "metadata": {},
   "outputs": [],
   "source": []
  },
  {
   "cell_type": "markdown",
   "metadata": {},
   "source": [
    "## `1.5 Support Vector Machines (SVM)`\n",
    "___"
   ]
  },
  {
   "cell_type": "markdown",
   "metadata": {},
   "source": [
    "## `1.6 Neural Networks`\n",
    "___"
   ]
  },
  {
   "cell_type": "markdown",
   "metadata": {},
   "source": [
    "## `1.7 k-Nearest Neighbors (k-NN)`\n",
    "___"
   ]
  },
  {
   "cell_type": "markdown",
   "metadata": {},
   "source": [
    "## `1.8 Gradient Boosting Machines (GBM)`\n",
    "___"
   ]
  },
  {
   "cell_type": "markdown",
   "metadata": {},
   "source": [
    "## `1.9 AdaBoost`\n",
    "___"
   ]
  },
  {
   "cell_type": "markdown",
   "metadata": {},
   "source": [
    "## `1.10 Naive Bayes`\n",
    "___"
   ]
  },
  {
   "cell_type": "markdown",
   "metadata": {},
   "source": [
    "## `1.11 Linear Discriminant Analysis (LDA)`\n",
    "___"
   ]
  },
  {
   "cell_type": "markdown",
   "metadata": {},
   "source": [
    "## `1.12 Ridge Regression`\n",
    "___"
   ]
  },
  {
   "cell_type": "markdown",
   "metadata": {},
   "source": [
    "## `1.13 Lasso Regression`\n",
    "___"
   ]
  },
  {
   "cell_type": "markdown",
   "metadata": {},
   "source": [
    "## `1.14 Elastic Net`\n",
    "___"
   ]
  },
  {
   "cell_type": "markdown",
   "metadata": {},
   "source": [
    "## `1.15 XGBoost`\n",
    "___"
   ]
  },
  {
   "cell_type": "markdown",
   "metadata": {},
   "source": [
    "## `1.16 LightGBM`\n",
    "___"
   ]
  },
  {
   "cell_type": "markdown",
   "metadata": {},
   "source": [
    "## `1.17 CatBoost`\n",
    "___"
   ]
  },
  {
   "cell_type": "markdown",
   "metadata": {},
   "source": [
    "## `1.18 Stochastic Gradient Descent (SGD)`\n",
    "___"
   ]
  },
  {
   "cell_type": "markdown",
   "metadata": {},
   "source": [
    "## `1.19 Principal Component Analysis (PCA)`\n",
    "___"
   ]
  },
  {
   "cell_type": "markdown",
   "metadata": {},
   "source": [
    "## `1.20 Singular Value Decomposition (SVD)`   \n",
    "___"
   ]
  },
  {
   "cell_type": "markdown",
   "metadata": {},
   "source": [
    "___\n",
    "# 2. `UNSUPERVISED LEARNING`\n",
    "___\n",
    "# Unsupervised Machine Learning Models: When to Use Which\n",
    "\n",
    "| **Model** | **Description** | **When to Use** | **Key Parameters** |\n",
    "|-----------|-----------------|-----------------|--------------------|\n",
    "| **k-Means Clustering** | Partitions data into k clusters based on feature similarity | When the goal is to partition the dataset into distinct clusters (e.g., customer segmentation) | Number of clusters (k), initialization method, maximum iterations |\n",
    "| **Hierarchical Clustering** | Builds a hierarchy of clusters either in a top-down or bottom-up approach | When a dendrogram of nested clusters is useful and when the number of clusters is not known beforehand | Linkage criteria (single, complete, average), distance metric (Euclidean, Manhattan) |\n",
    "| **Principal Component Analysis (PCA)** | Reduces dimensionality by transforming data to new axes that capture the most variance | When the goal is to reduce the number of features while retaining the most important information | Number of components, solver method |\n",
    "| **Independent Component Analysis (ICA)** | Decomposes multivariate signals into additive, independent components | When the goal is to separate independent sources from a mixed signal (e.g., separating audio signals) | Number of components, maximum iterations |\n",
    "| **t-Distributed Stochastic Neighbor Embedding (t-SNE)** | Reduces dimensionality for visualization of high-dimensional data in 2D or 3D space | When visualizing complex data in lower dimensions is needed | Perplexity, learning rate, number of iterations |\n",
    "| **Gaussian Mixture Models (GMM)** | Models data as a mixture of several Gaussian distributions | When the data is assumed to have underlying Gaussian distributions (e.g., soft clustering, anomaly detection) | Number of components, covariance type, maximum iterations |\n",
    "| **DBSCAN (Density-Based Spatial Clustering of Applications with Noise)** | Clusters data based on density, identifying areas of high density and separating them from low-density areas | When dealing with clusters of varying shapes and when handling noise and outliers | Epsilon (eps), minimum samples |\n",
    "| **Agglomerative Clustering** | A type of hierarchical clustering that merges or splits clusters iteratively | When the dataset is small to medium-sized and hierarchical relationships are of interest | Linkage criteria (ward, complete, average), distance metric |\n",
    "| **Self-Organizing Maps (SOM)** | A type of neural network used for clustering and visualizing high-dimensional data | When visualizing and clustering high-dimensional data in a grid-like structure is needed | Map size, learning rate, number of iterations |\n",
    "| **Isolation Forest** | Identifies anomalies by isolating observations in a tree structure | When the goal is to detect anomalies or outliers in the data | Number of estimators, contamination level |\n",
    "| **Mean Shift Clustering** | Clusters data by shifting data points towards the mode in a feature space | When the number of clusters is not known and when clusters of varying shapes and sizes are present | Bandwidth, maximum iterations |\n",
    "| **Autoencoders** | Neural networks used to learn efficient codings of input data for dimensionality reduction or anomaly detection | When reducing dimensionality or detecting anomalies using neural networks is desired | Number of layers, number of neurons per layer, learning rate |\n",
    "\n",
    "In summary, the choice of an unsupervised learning model depends on the specific nature of the task, the dataset, and the goals for clustering, dimensionality reduction, or anomaly detection.\n"
   ]
  },
  {
   "cell_type": "markdown",
   "metadata": {},
   "source": [
    "## `2.1 k-Means Clustering`\n",
    "___"
   ]
  },
  {
   "cell_type": "markdown",
   "metadata": {},
   "source": [
    "## `2.2 Hierarchical Clustering`\n",
    "___"
   ]
  },
  {
   "cell_type": "markdown",
   "metadata": {},
   "source": [
    "## `2.3 Principal Component Analysis (PCA)`\n",
    "___"
   ]
  },
  {
   "cell_type": "markdown",
   "metadata": {},
   "source": [
    "## `2.4 Independent Component Analysis (ICA)`\n",
    "___"
   ]
  },
  {
   "cell_type": "markdown",
   "metadata": {},
   "source": [
    "## `2.5 t-Distributed Stochastic Neighbor Embedding (t-SNE)`\n",
    "___"
   ]
  },
  {
   "cell_type": "markdown",
   "metadata": {},
   "source": [
    "## `2.6 Gaussian Mixture Models (GMM)`\n",
    "___"
   ]
  },
  {
   "cell_type": "markdown",
   "metadata": {},
   "source": [
    "## `2.7 DBSCAN (Density-Based Spatial Clustering of Applications with Noise)`\n",
    "___"
   ]
  },
  {
   "cell_type": "markdown",
   "metadata": {},
   "source": [
    "## `2.8 Agglomerative Clustering`\n",
    "___"
   ]
  },
  {
   "cell_type": "markdown",
   "metadata": {},
   "source": [
    "## `2.9 Self-Organizing Maps (SOM)`\n",
    "___"
   ]
  },
  {
   "cell_type": "markdown",
   "metadata": {},
   "source": [
    "## `2.10 Isolation Forest`\n",
    "___"
   ]
  },
  {
   "cell_type": "markdown",
   "metadata": {},
   "source": [
    "## `2.11 Mean Shift Clustering`\n",
    "___"
   ]
  },
  {
   "cell_type": "markdown",
   "metadata": {},
   "source": [
    "## `2.12 Autoencoders`\n",
    "___"
   ]
  },
  {
   "cell_type": "markdown",
   "metadata": {},
   "source": [
    "## `2.13 Spectral Clustering`\n",
    "___"
   ]
  },
  {
   "cell_type": "markdown",
   "metadata": {},
   "source": [
    "## `2.14 Affinity Propagation`\n",
    "___"
   ]
  },
  {
   "cell_type": "markdown",
   "metadata": {},
   "source": [
    "## `2.15 Locally Linear Embedding (LLE)`\n",
    "___"
   ]
  },
  {
   "cell_type": "markdown",
   "metadata": {},
   "source": [
    "## `2.16 UMAP (Uniform Manifold Approximation and Projection)`\n",
    "___"
   ]
  },
  {
   "cell_type": "markdown",
   "metadata": {},
   "source": [
    "## `2.17 Non-Negative Matrix Factorization (NMF)`\n",
    "___"
   ]
  },
  {
   "cell_type": "markdown",
   "metadata": {},
   "source": [
    "## `2.18 Latent Dirichlet Allocation (LDA)`\n",
    "___"
   ]
  },
  {
   "cell_type": "markdown",
   "metadata": {},
   "source": [
    "## `2.19 K-Medoids Clustering`\n",
    "___"
   ]
  },
  {
   "cell_type": "markdown",
   "metadata": {},
   "source": [
    "___\n",
    "# 3. `SEMI-SUPERVISED LEARNING`\n",
    "___\n",
    "\n",
    "\n",
    "## Semi-Supervised Machine Learning Models: When to Use Which\n",
    "\n",
    "| **Model** | **Description** | **When to Use** | **Key Parameters** |\n",
    "|-----------|-----------------|-----------------|--------------------|\n",
    "| **Semi-Supervised Support Vector Machines (S3VM)** | Extends SVM to leverage both labeled and unlabeled data | When labeled data is limited but there is a large amount of unlabeled data available | Regularization parameter (C), kernel type, number of iterations |\n",
    "| **Co-Training** | Trains two classifiers on two different views of the data, using the predictions of one to train the other | When data can be naturally split into two distinct and independent views | Number of iterations, confidence threshold for labeling |\n",
    "| **Graph-Based Methods** | Uses a graph to represent the data where nodes are samples and edges represent similarities | When data has an inherent graph structure (e.g., social networks, citation networks) | Number of nearest neighbors, regularization parameter |\n",
    "| **Self-Training** | Uses a supervised model to iteratively label the most confident unlabeled data points and retrain | When starting with a small labeled dataset and gradually increasing the labeled set using the model's predictions | Confidence threshold for labeling, number of iterations |\n",
    "| **Transductive SVM (TSVM)** | Similar to S3VM but focuses on predicting the labels of the unlabeled data rather than fitting a general model | When the main goal is to label a specific unlabeled dataset | Regularization parameter (C), kernel type, number of iterations |\n",
    "| **Label Propagation** | Propagates labels through the data graph based on similarities between nodes | When the dataset can be represented as a graph and labels can be propagated based on similarity | Number of nearest neighbors, maximum iterations |\n",
    "| **Label Spreading** | Similar to label propagation but uses a normalized graph Laplacian for smoothing | When label propagation needs smoothing to prevent noise from propagating | Number of nearest neighbors, maximum iterations, kernel type |\n",
    "\n",
    "In summary, the choice of a semi-supervised learning model depends on the specific nature of the task, the dataset, and the balance between labeled and unlabeled data."
   ]
  },
  {
   "cell_type": "markdown",
   "metadata": {},
   "source": [
    "## `3.1 Semi-Supervised Support Vector Machines (S3VM)`\n",
    "___"
   ]
  },
  {
   "cell_type": "markdown",
   "metadata": {},
   "source": [
    "## `3.2 Co-Training`\n",
    "___"
   ]
  },
  {
   "cell_type": "markdown",
   "metadata": {},
   "source": [
    "## `3.3 Graph-Based Methods`\n",
    "___"
   ]
  },
  {
   "cell_type": "markdown",
   "metadata": {},
   "source": [
    "## `3.4 Self Training`\n",
    "___"
   ]
  },
  {
   "cell_type": "markdown",
   "metadata": {},
   "source": [
    "## `3.5 Transductive SVM (TSVM)`\n",
    "___"
   ]
  },
  {
   "cell_type": "markdown",
   "metadata": {},
   "source": [
    "## `3.6 Label Propagation`\n",
    "___"
   ]
  },
  {
   "cell_type": "markdown",
   "metadata": {},
   "source": [
    "## `3.7 Label Spreading`\n",
    "___"
   ]
  },
  {
   "cell_type": "markdown",
   "metadata": {},
   "source": [
    "## `3.8 Tri-Training`\n",
    "___"
   ]
  },
  {
   "cell_type": "markdown",
   "metadata": {},
   "source": [
    "## `3.9 Multi-View Learning`\n",
    "___"
   ]
  },
  {
   "cell_type": "markdown",
   "metadata": {},
   "source": [
    "## `3.10 Generative Adversarial Networks (GANs)`\n",
    "___"
   ]
  },
  {
   "cell_type": "markdown",
   "metadata": {},
   "source": [
    "## `3.11 Deep Belief Networks (DBNs)`\n",
    "___"
   ]
  },
  {
   "cell_type": "markdown",
   "metadata": {},
   "source": [
    "## `3.12 Variational Autoencoders (VAEs)`\n",
    "___"
   ]
  },
  {
   "cell_type": "markdown",
   "metadata": {},
   "source": [
    "## `3.13 Expectation-Maximization (EM) Algorithm`\n",
    "___"
   ]
  },
  {
   "cell_type": "markdown",
   "metadata": {},
   "source": [
    "## `3.14 Co-EM Algorithm`\n",
    "___"
   ]
  },
  {
   "cell_type": "markdown",
   "metadata": {},
   "source": [
    "## `3.15 Self-Ensembling`\n",
    "___"
   ]
  },
  {
   "cell_type": "markdown",
   "metadata": {},
   "source": [
    "## `3.16 Pseudo-Labeling`   \n",
    "___"
   ]
  },
  {
   "cell_type": "markdown",
   "metadata": {},
   "source": [
    "## `3.17 Consistency Regularization`\n",
    "___"
   ]
  },
  {
   "cell_type": "markdown",
   "metadata": {},
   "source": [
    "## `3.18 MixMatch`\n",
    "___"
   ]
  },
  {
   "cell_type": "markdown",
   "metadata": {},
   "source": [
    "## `3.19 FixMatch`\n",
    "___"
   ]
  },
  {
   "cell_type": "markdown",
   "metadata": {},
   "source": [
    "## `3.20 ReMixMatch`\n",
    "___"
   ]
  },
  {
   "cell_type": "markdown",
   "metadata": {},
   "source": [
    "___\n",
    "# 4. `REINFORCEMENT LEARNING`\n",
    "___\n",
    "\n",
    "# Reinforcement Learning Models: When to Use Which\n",
    "\n",
    "| **Model** | **Description** | **When to Use** | **Key Parameters** |\n",
    "|-----------|-----------------|-----------------|--------------------|\n",
    "| **Q-Learning** | Learns the value of actions in discrete state-action spaces to maximize cumulative reward | When the state-action space is discrete and the environment is fully observable | Learning rate (alpha), discount factor (gamma), exploration rate (epsilon) |\n",
    "| **Deep Q-Networks (DQN)** | Extends Q-learning using neural networks to handle large state-action spaces | When the state-action space is large and complex, such as in video games | Learning rate, discount factor, replay memory size, batch size |\n",
    "| **Policy Gradient Methods** | Directly optimizes the policy by maximizing the expected reward | When the policy needs to handle continuous action spaces or complex environments | Learning rate, discount factor, number of episodes, policy network architecture |\n",
    "| **Actor-Critic Methods** | Combines policy gradients and value functions, with separate networks for the actor (policy) and critic (value) | When balancing the benefits of value-based and policy-based approaches is needed | Learning rates for actor and critic, discount factor, entropy coefficient |\n",
    "| **Asynchronous Advantage Actor-Critic (A3C)** | An asynchronous variant of actor-critic methods that uses multiple agents in parallel | When parallelizing training to improve efficiency and convergence | Learning rates for actor and critic, discount factor, entropy coefficient, number of agents |\n",
    "| **Proximal Policy Optimization (PPO)** | A policy gradient method that uses a clipped objective to maintain stability and reliability | When needing a stable and efficient policy optimization method | Clipping parameter, learning rate, discount factor, batch size |\n",
    "| **Trust Region Policy Optimization (TRPO)** | A policy optimization method that ensures updates are within a trust region to maintain policy stability | When requiring guaranteed policy improvement steps | Trust region size, discount factor, learning rate |\n",
    "| **Soft Actor-Critic (SAC)** | An off-policy actor-critic method that optimizes a stochastic policy for maximum entropy | When needing efficient exploration and robustness to hyperparameters | Learning rates, discount factor, entropy coefficient, replay buffer size |\n",
    "| **Deep Deterministic Policy Gradient (DDPG)** | An actor-critic method designed for continuous action spaces, using deterministic policies | When handling environments with continuous action spaces | Learning rates for actor and critic, discount factor, replay buffer size, batch size |\n",
    "| **Twin Delayed DDPG (TD3)** | An improvement on DDPG that addresses overestimation bias and improves training stability | When needing more reliable training in continuous action spaces | Learning rates for actor and critic, discount factor, target policy smoothing coefficient, policy delay |\n",
    "| **Rainbow DQN** | Combines several improvements to DQN, such as double Q-learning, prioritized experience replay, and dueling networks | When needing a comprehensive and robust approach to Q-learning | Learning rate, discount factor, replay memory size, batch size, prioritized replay parameters |\n",
    "\n",
    "In summary, the choice of a reinforcement learning model depends on the specific nature of the task, the environment, the state-action space, and the need for stability, efficiency, and exploration.\n"
   ]
  },
  {
   "cell_type": "markdown",
   "metadata": {},
   "source": [
    "## `4.1 Q-Learning`\n",
    "___"
   ]
  },
  {
   "cell_type": "markdown",
   "metadata": {},
   "source": [
    "## `4.2 Deep Q-Networks (DQN)`\n",
    "___"
   ]
  },
  {
   "cell_type": "markdown",
   "metadata": {},
   "source": [
    "## `4.3 Policy Gradient Methods`\n",
    "___"
   ]
  },
  {
   "cell_type": "markdown",
   "metadata": {},
   "source": [
    "## `4.4 Actor-Critic Methods`\n",
    "___"
   ]
  },
  {
   "cell_type": "markdown",
   "metadata": {},
   "source": [
    "## `4.5 Asynchronous Advantage Actor-Critic (A3C)`\n",
    "___"
   ]
  },
  {
   "cell_type": "markdown",
   "metadata": {},
   "source": [
    "## `4.6 Proximal Policy Optimization (PPO)`\n",
    "___"
   ]
  },
  {
   "cell_type": "markdown",
   "metadata": {},
   "source": [
    "## `4.7 Trust Region Policy Optimization (TRPO)`\n",
    "___"
   ]
  },
  {
   "cell_type": "markdown",
   "metadata": {},
   "source": [
    "## `4.8 Soft Actor-Critic (SAC)`\n",
    "___"
   ]
  },
  {
   "cell_type": "markdown",
   "metadata": {},
   "source": [
    "## `4.9 Deep Deterministic Policy Gradient (DDPG)`\n",
    "___"
   ]
  },
  {
   "cell_type": "markdown",
   "metadata": {},
   "source": [
    "## `4.10 Twin Delayed DDPG (TD3)`\n",
    "___"
   ]
  },
  {
   "cell_type": "markdown",
   "metadata": {},
   "source": [
    "## `4.11 Rainbow DQN`\n",
    "___"
   ]
  },
  {
   "cell_type": "markdown",
   "metadata": {},
   "source": [
    "## `4.12 Dueling DQN`\n",
    "___"
   ]
  },
  {
   "cell_type": "markdown",
   "metadata": {},
   "source": [
    "## `4.13 Hindsight Experience Replay (HER)`\n",
    "___"
   ]
  },
  {
   "cell_type": "markdown",
   "metadata": {},
   "source": [
    "## `4.14 Model-Based Reinforcement Learning`\n",
    "___"
   ]
  },
  {
   "cell_type": "markdown",
   "metadata": {},
   "source": [
    "## `4.15 Model-Free Reinforcement Learning`\n",
    "___"
   ]
  },
  {
   "cell_type": "markdown",
   "metadata": {},
   "source": [
    "## `4.16 Monte Carlo Methods`\n",
    "___"
   ]
  },
  {
   "cell_type": "markdown",
   "metadata": {},
   "source": [
    "## `4.17 Temporal Difference Learning`\n",
    "___"
   ]
  },
  {
   "cell_type": "markdown",
   "metadata": {},
   "source": [
    "## `4.18 SARSA (State-Action-Reward-State-Action)`\n",
    "___"
   ]
  },
  {
   "cell_type": "markdown",
   "metadata": {},
   "source": [
    "## `4.19 DDPG with Hindsight Experience Replay (DDPG-HER)`\n",
    "___"
   ]
  },
  {
   "cell_type": "markdown",
   "metadata": {},
   "source": [
    "## `4.20 AlphaZero`\n",
    "___"
   ]
  }
 ],
 "metadata": {
  "kernelspec": {
   "display_name": "NLP",
   "language": "python",
   "name": "python3"
  },
  "language_info": {
   "codemirror_mode": {
    "name": "ipython",
    "version": 3
   },
   "file_extension": ".py",
   "mimetype": "text/x-python",
   "name": "python",
   "nbconvert_exporter": "python",
   "pygments_lexer": "ipython3",
   "version": "3.11.9"
  }
 },
 "nbformat": 4,
 "nbformat_minor": 2
}
